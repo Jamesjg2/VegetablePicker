{
 "cells": [
  {
   "cell_type": "code",
   "execution_count": 1,
   "id": "9a04b7d4",
   "metadata": {},
   "outputs": [],
   "source": [
    "import os\n",
    "import numpy as np\n",
    "import torch\n",
    "import torch.nn as nn\n",
    "import torch.nn.functional as F\n",
    "import torchvision\n",
    "\n",
    "from torchvision import transforms, models\n",
    "from sklearn.metrics import average_precision_score\n",
    "from PIL import Image, ImageDraw\n",
    "import matplotlib.pyplot as plt\n",
    "\n",
    "from models import Veggie_Classifier\n",
    "\n",
    "%matplotlib inline\n",
    "%load_ext autoreload\n",
    "%autoreload 2"
   ]
  },
  {
   "cell_type": "code",
   "execution_count": 2,
   "id": "14cc5374",
   "metadata": {},
   "outputs": [],
   "source": [
    "train_dir='./Vegetable Images/train'\n",
    "val_dir='./Vegetable Images/validation'\n",
    "test_dir='./Vegetable Images/test'"
   ]
  },
  {
   "cell_type": "code",
   "execution_count": 3,
   "id": "44dc4ad8",
   "metadata": {},
   "outputs": [],
   "source": [
    "VEGETABLE_CLASSES = ['Bean', 'Bitter Gourd', 'Bottle Gourd', 'Brinjal', 'Broccoli', 'Cabbage', 'Capsicum', 'Carrot', 'Cauliflower', 'Cucumber', 'Papaya', 'Potato', 'Pumpkin', 'Radish', 'Tomato']\n",
    "NUM_CLASSES = len(VEGETABLE_CLASSES)"
   ]
  },
  {
   "cell_type": "code",
   "execution_count": 4,
   "id": "f04ea0fb",
   "metadata": {},
   "outputs": [],
   "source": [
    "def train_classifier(train_loader, classifier, criterion, optimizer):\n",
    "    classifier.train()\n",
    "    loss_ = 0.0\n",
    "    losses = []\n",
    "    for i, (images, labels) in enumerate(train_loader):\n",
    "        images, labels = images.to(device), labels.to(device)\n",
    "        optimizer.zero_grad()\n",
    "        logits = classifier(images)\n",
    "        labels = F.one_hot(labels, NUM_CLASSES)\n",
    "        loss = criterion(logits, labels)\n",
    "        loss.backward()\n",
    "        optimizer.step()\n",
    "        losses.append(loss)\n",
    "    return torch.stack(losses).mean().item()"
   ]
  },
  {
   "cell_type": "code",
   "execution_count": 5,
   "id": "63dc7793",
   "metadata": {},
   "outputs": [],
   "source": [
    "def test_classifier(test_loader, classifier, criterion, print_ind_classes=True, print_total=True):\n",
    "    classifier.eval()\n",
    "    losses = []\n",
    "    with torch.no_grad():\n",
    "        y_true = np.zeros((0,NUM_CLASSES))\n",
    "        y_score = np.zeros((0,NUM_CLASSES))\n",
    "        for i, (images, labels) in enumerate(test_loader):\n",
    "            images, labels = images.to(device), labels.to(device)\n",
    "            logits = classifier(images)\n",
    "            labels = F.one_hot(labels, NUM_CLASSES)\n",
    "            y_true = np.concatenate((y_true, labels.cpu().numpy()), axis=0)\n",
    "            y_score = np.concatenate((y_score, logits.cpu().numpy()), axis=0)\n",
    "            loss = criterion(logits, labels)\n",
    "            losses.append(loss.item())\n",
    "        aps = []\n",
    "        # ignore first class which is background\n",
    "        for i in range(1, y_true.shape[1]):\n",
    "            ap = average_precision_score(y_true[:, i], y_score[:, i])\n",
    "            if print_ind_classes:\n",
    "                print('-------  Class: {:<12}     AP: {:>8.4f}  -------'.format(VEGETABLE_CLASSES[i], ap))\n",
    "            aps.append(ap)\n",
    "        \n",
    "        mAP = np.mean(aps)\n",
    "        test_loss = np.mean(losses)\n",
    "        if print_total:\n",
    "            print('mAP: {0:.4f}'.format(mAP))\n",
    "            print('Avg loss: {}'.format(test_loss))\n",
    "        \n",
    "    return mAP, test_loss, aps"
   ]
  },
  {
   "cell_type": "code",
   "execution_count": 6,
   "id": "0925e697",
   "metadata": {},
   "outputs": [],
   "source": [
    "def plot_losses(train, val, test_frequency, num_epochs):\n",
    "    plt.plot(train, label=\"train\")\n",
    "    indices = [i for i in range(num_epochs) if ((i+1)%test_frequency == 0 or i ==0)]\n",
    "    plt.plot(indices, val, label=\"val\")\n",
    "    plt.title(\"Loss Plot\")\n",
    "    plt.ylabel(\"Loss\")\n",
    "    plt.xlabel(\"Epoch\")\n",
    "    plt.legend()\n",
    "    plt.show()\n",
    "    \n",
    "def plot_mAP(train, val, test_frequency, num_epochs):\n",
    "    indices = [i for i in range(num_epochs) if ((i+1)%test_frequency == 0 or i ==0)]\n",
    "    plt.plot(indices, train, label=\"train\")\n",
    "    plt.plot(indices, val, label=\"val\")\n",
    "    plt.title(\"mAP Plot\")\n",
    "    plt.ylabel(\"mAP\")\n",
    "    plt.xlabel(\"Epoch\")\n",
    "    plt.legend()\n",
    "    plt.show()"
   ]
  },
  {
   "cell_type": "code",
   "execution_count": 7,
   "id": "81a78977",
   "metadata": {},
   "outputs": [],
   "source": [
    "def train(classifier, num_epochs, train_loader, val_loader, criterion, optimizer, scheduler, test_frequency=5):\n",
    "    train_losses = []\n",
    "    train_mAPs = []\n",
    "    val_losses = []\n",
    "    val_mAPs = []\n",
    "\n",
    "    for epoch in range(1,num_epochs+1):\n",
    "        print(\"Starting epoch number \" + str(epoch))\n",
    "        train_loss = train_classifier(train_loader, classifier, criterion, optimizer)\n",
    "        train_losses.append(train_loss)\n",
    "        print(\"Loss for Training on Epoch \" +str(epoch) + \" is \"+ str(train_loss))\n",
    "        if(epoch%test_frequency==0 or epoch==1):\n",
    "            mAP_train, _, _ = test_classifier(train_loader, classifier, criterion, False, False)\n",
    "            train_mAPs.append(mAP_train)\n",
    "            mAP_val, val_loss, _ = test_classifier(val_loader, classifier, criterion)\n",
    "            print('Evaluating classifier')\n",
    "            print(\"Mean Precision Score for Testing on Epoch \" +str(epoch) + \" is \"+ str(mAP_val))\n",
    "            val_losses.append(val_loss)\n",
    "            val_mAPs.append(mAP_val)\n",
    "            \n",
    "            scheduler.step()\n",
    "    \n",
    "    return classifier, train_losses, val_losses, train_mAPs, val_mAPs"
   ]
  },
  {
   "cell_type": "code",
   "execution_count": 8,
   "id": "53238fad",
   "metadata": {},
   "outputs": [],
   "source": [
    "device = torch.device(\"cuda:0\" if torch.cuda.is_available() else \"cpu\")\n",
    "\n",
    "normalize = transforms.Normalize(mean=[0.485, 0.456, 0.406],\n",
    "                                     std= [0.229, 0.224, 0.225])\n",
    "\n",
    "train_transform = transforms.Compose([\n",
    "                                     transforms.RandomHorizontalFlip(p=0.5),\n",
    "                                     transforms.RandomRotation(15),\n",
    "                                     transforms.ColorJitter(brightness=0.2,contrast=0.1,hue=0.1,saturation=0.1),\n",
    "                                     transforms.RandomAffine(degrees=15, translate=(0.1,0.1), scale=(1, 2), shear=15),\n",
    "                                     transforms.GaussianBlur(kernel_size=(5,9)),\n",
    "                                     transforms.Resize((224,224)),\n",
    "                                     transforms.ToTensor(),\n",
    "                                     normalize\n",
    "                                     ])\n",
    "\n",
    "test_transform = transforms.Compose([                             \n",
    "                                     transforms.Resize((224,224)),\n",
    "                                     transforms.ToTensor(), \n",
    "                                     normalize\n",
    "                                     ])"
   ]
  },
  {
   "cell_type": "code",
   "execution_count": 9,
   "id": "e37e95d6",
   "metadata": {},
   "outputs": [],
   "source": [
    "num_epochs = 10\n",
    "test_frequency = 5\n",
    "batch_size = 64\n",
    "\n",
    "train_dataset=torchvision.datasets.ImageFolder(root=train_dir,transform=train_transform)\n",
    "val_dataset=torchvision.datasets.ImageFolder(root=val_dir,transform=test_transform)\n",
    "test_dataset=torchvision.datasets.ImageFolder(root=test_dir,transform=test_transform)\n",
    "\n",
    "train_loader = torch.utils.data.DataLoader(dataset=train_dataset,\n",
    "                                               batch_size=batch_size, \n",
    "                                               shuffle=True,\n",
    "                                               num_workers=1)\n",
    "\n",
    "val_loader = torch.utils.data.DataLoader(dataset=val_dataset,\n",
    "                                               batch_size=batch_size, \n",
    "                                               shuffle=True,\n",
    "                                               num_workers=1)\n",
    "\n",
    "test_loader = torch.utils.data.DataLoader(dataset=test_dataset,\n",
    "                                               batch_size=batch_size, \n",
    "                                               shuffle=False,\n",
    "                                               num_workers=1)"
   ]
  },
  {
   "cell_type": "code",
   "execution_count": 10,
   "id": "755d363f",
   "metadata": {},
   "outputs": [
    {
     "name": "stdout",
     "output_type": "stream",
     "text": [
      "Starting epoch number 1\n",
      "Loss for Training on Epoch 1 is 0.1988183856010437\n",
      "-------  Class: Bitter Gourd     AP:   0.6124  -------\n",
      "-------  Class: Bottle Gourd     AP:   0.6606  -------\n",
      "-------  Class: Brinjal          AP:   0.3883  -------\n",
      "-------  Class: Broccoli         AP:   0.7896  -------\n",
      "-------  Class: Cabbage          AP:   0.5754  -------\n",
      "-------  Class: Capsicum         AP:   0.8095  -------\n",
      "-------  Class: Carrot           AP:   0.9724  -------\n",
      "-------  Class: Cauliflower      AP:   0.5527  -------\n",
      "-------  Class: Cucumber         AP:   0.5525  -------\n",
      "-------  Class: Papaya           AP:   0.7111  -------\n",
      "-------  Class: Potato           AP:   0.8637  -------\n",
      "-------  Class: Pumpkin          AP:   0.7600  -------\n",
      "-------  Class: Radish           AP:   0.8321  -------\n",
      "-------  Class: Tomato           AP:   0.6948  -------\n",
      "mAP: 0.6982\n",
      "Avg loss: 0.14130836249666012\n",
      "Evaluating classifier\n",
      "Mean Precision Score for Testing on Epoch 1 is 0.6982284903307631\n",
      "Starting epoch number 2\n",
      "Loss for Training on Epoch 2 is 0.14981253445148468\n",
      "Starting epoch number 3\n",
      "Loss for Training on Epoch 3 is 0.13129524886608124\n",
      "Starting epoch number 4\n",
      "Loss for Training on Epoch 4 is 0.11807438731193542\n",
      "Starting epoch number 5\n",
      "Loss for Training on Epoch 5 is 0.10939431190490723\n",
      "-------  Class: Bitter Gourd     AP:   0.9495  -------\n",
      "-------  Class: Bottle Gourd     AP:   0.8859  -------\n",
      "-------  Class: Brinjal          AP:   0.6861  -------\n",
      "-------  Class: Broccoli         AP:   0.9330  -------\n",
      "-------  Class: Cabbage          AP:   0.8986  -------\n",
      "-------  Class: Capsicum         AP:   0.9304  -------\n",
      "-------  Class: Carrot           AP:   0.9989  -------\n",
      "-------  Class: Cauliflower      AP:   0.9290  -------\n",
      "-------  Class: Cucumber         AP:   0.8415  -------\n",
      "-------  Class: Papaya           AP:   0.7875  -------\n",
      "-------  Class: Potato           AP:   0.9874  -------\n",
      "-------  Class: Pumpkin          AP:   0.9640  -------\n",
      "-------  Class: Radish           AP:   0.9771  -------\n",
      "-------  Class: Tomato           AP:   0.8640  -------\n",
      "mAP: 0.9023\n",
      "Avg loss: 0.07414746593604697\n",
      "Evaluating classifier\n",
      "Mean Precision Score for Testing on Epoch 5 is 0.9023483803221474\n",
      "Starting epoch number 6\n",
      "Loss for Training on Epoch 6 is 0.09969329833984375\n",
      "Starting epoch number 7\n",
      "Loss for Training on Epoch 7 is 0.09346812963485718\n",
      "Starting epoch number 8\n",
      "Loss for Training on Epoch 8 is 0.08923927694559097\n",
      "Starting epoch number 9\n",
      "Loss for Training on Epoch 9 is 0.08521692454814911\n",
      "Starting epoch number 10\n",
      "Loss for Training on Epoch 10 is 0.08089420944452286\n",
      "-------  Class: Bitter Gourd     AP:   0.9707  -------\n",
      "-------  Class: Bottle Gourd     AP:   0.9554  -------\n",
      "-------  Class: Brinjal          AP:   0.8296  -------\n",
      "-------  Class: Broccoli         AP:   0.9349  -------\n",
      "-------  Class: Cabbage          AP:   0.9530  -------\n",
      "-------  Class: Capsicum         AP:   0.9702  -------\n",
      "-------  Class: Carrot           AP:   0.9984  -------\n",
      "-------  Class: Cauliflower      AP:   0.9225  -------\n",
      "-------  Class: Cucumber         AP:   0.8740  -------\n",
      "-------  Class: Papaya           AP:   0.9137  -------\n",
      "-------  Class: Potato           AP:   0.9789  -------\n",
      "-------  Class: Pumpkin          AP:   0.9656  -------\n",
      "-------  Class: Radish           AP:   0.9831  -------\n",
      "-------  Class: Tomato           AP:   0.9332  -------\n",
      "mAP: 0.9416\n",
      "Avg loss: 0.0642543672088613\n",
      "Evaluating classifier\n",
      "Mean Precision Score for Testing on Epoch 10 is 0.9416446139289748\n"
     ]
    }
   ],
   "source": [
    "# TODO: Run your own classifier here\n",
    "classifier = Veggie_Classifier().to(device)\n",
    "\n",
    "criterion = nn.MultiLabelSoftMarginLoss()\n",
    "# optimizer = torch.optim.SGD(classifier.parameters(), lr=0.01, momentum=0.9)\n",
    "optimizer = torch.optim.Adam(classifier.parameters(), lr=1e-4)\n",
    "scheduler = torch.optim.lr_scheduler.ExponentialLR(optimizer, gamma=.9)\n",
    "\n",
    "classifier, train_losses, val_losses, train_mAPs, val_mAPs = train(classifier, num_epochs, train_loader, val_loader, criterion, optimizer, scheduler, test_frequency)"
   ]
  },
  {
   "cell_type": "code",
   "execution_count": 11,
   "id": "37b41062",
   "metadata": {},
   "outputs": [],
   "source": [
    "torch.save(classifier.state_dict(), './saved_models/veggie_classifier.pth')"
   ]
  },
  {
   "cell_type": "code",
   "execution_count": 12,
   "id": "c453d1d1",
   "metadata": {},
   "outputs": [
    {
     "data": {
      "image/png": "[encoded data removed]",
      "text/plain": [
       "<Figure size 432x288 with 1 Axes>"
      ]
     },
     "metadata": {
      "needs_background": "light"
     },
     "output_type": "display_data"
    },
    {
     "data": {
      "image/png": "[encoded data removed]",
      "text/plain": [
       "<Figure size 432x288 with 1 Axes>"
      ]
     },
     "metadata": {
      "needs_background": "light"
     },
     "output_type": "display_data"
    }
   ],
   "source": [
    "plot_losses(train_losses, val_losses, test_frequency, num_epochs)\n",
    "plot_mAP(train_mAPs, val_mAPs, test_frequency, num_epochs)"
   ]
  },
  {
   "cell_type": "code",
   "execution_count": 13,
   "id": "8829c483",
   "metadata": {},
   "outputs": [
    {
     "name": "stdout",
     "output_type": "stream",
     "text": [
      "-------  Class: Bitter Gourd     AP:   0.9496  -------\n",
      "-------  Class: Bottle Gourd     AP:   0.9571  -------\n",
      "-------  Class: Brinjal          AP:   0.8307  -------\n",
      "-------  Class: Broccoli         AP:   0.9315  -------\n",
      "-------  Class: Cabbage          AP:   0.9183  -------\n",
      "-------  Class: Capsicum         AP:   0.9819  -------\n",
      "-------  Class: Carrot           AP:   0.9995  -------\n",
      "-------  Class: Cauliflower      AP:   0.9211  -------\n",
      "-------  Class: Cucumber         AP:   0.8751  -------\n",
      "-------  Class: Papaya           AP:   0.9244  -------\n",
      "-------  Class: Potato           AP:   0.9818  -------\n",
      "-------  Class: Pumpkin          AP:   0.9843  -------\n",
      "-------  Class: Radish           AP:   0.9783  -------\n",
      "-------  Class: Tomato           AP:   0.9150  -------\n",
      "mAP: 0.9392\n",
      "Avg loss: 0.06401040772610206\n",
      "0.9391924250724827\n"
     ]
    }
   ],
   "source": [
    "mAP_test, test_loss, test_aps = test_classifier(test_loader, classifier, criterion)\n",
    "print(mAP_test)"
   ]
  }
 ],
 "metadata": {
  "kernelspec": {
   "display_name": "Python 3",
   "language": "python",
   "name": "python3"
  },
  "language_info": {
   "codemirror_mode": {
    "name": "ipython",
    "version": 3
   },
   "file_extension": ".py",
   "mimetype": "text/x-python",
   "name": "python",
   "nbconvert_exporter": "python",
   "pygments_lexer": "ipython3",
   "version": "3.8.8"
  }
 },
 "nbformat": 4,
 "nbformat_minor": 5
}

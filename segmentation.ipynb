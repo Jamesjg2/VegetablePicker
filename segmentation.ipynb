{
 "cells": [
  {
   "cell_type": "code",
   "execution_count": 1,
   "id": "4a2841ea",
   "metadata": {},
   "outputs": [],
   "source": [
    "import torch, torchvision\n",
    "from torchvision import transforms, models\n",
    "import numpy as np\n",
    "from BASNet.model.BASNet import BASNet\n",
    "from PIL import Image\n",
    "\n",
    "from utils import load_segmentation_model, show_images, get_positive_image_pair, get_negative_images\n",
    "from mask_contrast import MaskContrastLoss\n",
    "\n",
    "import matplotlib.pyplot as plt"
   ]
  },
  {
   "cell_type": "code",
   "execution_count": 2,
   "id": "0e571e32",
   "metadata": {},
   "outputs": [],
   "source": [
    "train_dir='./Vegetable Images/train'\n",
    "val_dir='./Vegetable Images/validation'\n",
    "test_dir='./Vegetable Images/test'"
   ]
  },
  {
   "cell_type": "code",
   "execution_count": 3,
   "id": "97e29640",
   "metadata": {},
   "outputs": [],
   "source": [
    "VEGETABLE_CLASSES = ['Bean', 'Bitter Gourd', 'Bottle Gourd', 'Brinjal', 'Broccoli', 'Cabbage', 'Capsicum', 'Carrot', 'Cauliflower', 'Cucumber', 'Papaya', 'Potato', 'Pumpkin', 'Radish', 'Tomato']\n",
    "NUM_CLASSES = len(VEGETABLE_CLASSES)"
   ]
  },
  {
   "cell_type": "code",
   "execution_count": 4,
   "id": "4a9b6c32",
   "metadata": {},
   "outputs": [],
   "source": [
    "device = torch.device(\"cuda:0\" if torch.cuda.is_available() else \"cpu\")\n",
    "\n",
    "normalize = transforms.Normalize(mean=[0.485, 0.456, 0.406],\n",
    "                                     std= [0.229, 0.224, 0.225])\n",
    "\n",
    "train_transform = transforms.Compose([\n",
    "                                     transforms.RandomHorizontalFlip(p=0.5),\n",
    "                                     transforms.RandomRotation(15),\n",
    "                                     transforms.ColorJitter(brightness=0.2,contrast=0.1,hue=0.1,saturation=0.1),\n",
    "                                     transforms.RandomAffine(degrees=15, translate=(0.1,0.1), scale=(1, 2), shear=15),\n",
    "                                     transforms.GaussianBlur(kernel_size=(5,9)),\n",
    "                                     transforms.Resize((224,224)),\n",
    "                                     transforms.ToTensor(),\n",
    "                                     normalize\n",
    "                                     ])\n",
    "\n",
    "test_transform = transforms.Compose([                             \n",
    "                                     transforms.Resize((224,224)),\n",
    "                                     transforms.ToTensor(), \n",
    "                                     normalize\n",
    "                                     ])"
   ]
  },
  {
   "cell_type": "code",
   "execution_count": 5,
   "id": "dcdfb628",
   "metadata": {},
   "outputs": [],
   "source": [
    "num_epochs = 10\n",
    "test_frequency = 5\n",
    "batch_size = 5\n",
    "\n",
    "train_dataset=torchvision.datasets.ImageFolder(root=train_dir,transform=train_transform)\n",
    "val_dataset=torchvision.datasets.ImageFolder(root=val_dir,transform=test_transform)\n",
    "test_dataset=torchvision.datasets.ImageFolder(root=test_dir,transform=test_transform)\n",
    "\n",
    "train_loader = torch.utils.data.DataLoader(dataset=train_dataset,\n",
    "                                               batch_size=batch_size, \n",
    "                                               shuffle=True,\n",
    "                                               num_workers=1)\n",
    "\n",
    "val_loader = torch.utils.data.DataLoader(dataset=val_dataset,\n",
    "                                               batch_size=batch_size, \n",
    "                                               shuffle=True,\n",
    "                                               num_workers=1)\n",
    "\n",
    "test_loader = torch.utils.data.DataLoader(dataset=test_dataset,\n",
    "                                               batch_size=batch_size, \n",
    "                                               shuffle=False,\n",
    "                                               num_workers=1)"
   ]
  },
  {
   "cell_type": "code",
   "execution_count": 6,
   "id": "1b9ad12f",
   "metadata": {},
   "outputs": [],
   "source": [
    "def train_segmentation(train_loader, segmentation_net, saliency_net, criterion, optimizer):\n",
    "    segmentation_net.train()\n",
    "    losses = []\n",
    "    for i, (images, labels) in enumerate(train_loader):\n",
    "        images, labels = images.to(device), labels.to(device)\n",
    "        \n",
    "        main_images = []\n",
    "        positive_images = []\n",
    "        negative_images = []\n",
    "        \n",
    "        object_masks = saliency_net(images)\n",
    "        for i in range(len(images)):  \n",
    "            object_mask = object_masks[i]\n",
    "            \n",
    "            main_image, positive_image = get_positive_image_pair(images[i], object_mask)\n",
    "            negative_image = get_negative_images(images[i], object_mask)\n",
    "            \n",
    "            main_images.append(main_image)\n",
    "            positive_images.append(positive_image)\n",
    "            negative_images = negative_images + negative_image\n",
    "            \n",
    "        main_images = torch.stack(main_images)\n",
    "        positive_images = torch.stack(positive_images)\n",
    "        negative_images = torch.stack(negative_images)\n",
    "        \n",
    "        main_image_embedding = segmentation_net(main_images)['out'][:, 0, :, :]\n",
    "        positive_image_embedding = segmentation_net(positive_images)['out'][:, 0, :, :]\n",
    "        negative_image_embeddings = segmentation_net(negative_images)['out'][:, 0, :, :]\n",
    "        negative_image_embeddings = negative_image_embeddings.view(batch_size, 128, -1, -1, -1)\n",
    "            \n",
    "        optimizer.zero_grad()\n",
    "        loss = criterion(main_image_embeddings, positive_image_embeddings, negative_image_embeddings)\n",
    "        loss.backward()\n",
    "        optimizer.step()\n",
    "        losses.append(loss)\n",
    "        \n",
    "        print(f'{(i + 1) * batch_size} / {len(train_loader.dataset)} images trained')\n",
    "    \n",
    "    return torch.stack(losses).mean().item()\n",
    "\n",
    "def test_segmentation(test_loader, segmentation_net, saliency_net, criterion, print_ind_classes=True, print_total=True):\n",
    "    segmentation_net.eval()\n",
    "    losses = []\n",
    "    with torch.no_grad():\n",
    "        for i, (images, labels) in enumerate(test_loader):\n",
    "            images, labels = images.to(device), labels.to(device)\n",
    "\n",
    "            main_images = []\n",
    "            positive_images = []\n",
    "            negative_images = []\n",
    "\n",
    "            object_masks = saliency_net(images)\n",
    "            for i in range(len(images)):\n",
    "                object_mask = object_masks[i]\n",
    "                \n",
    "                main_image, positive_image = get_positive_image_pair(images[i], object_mask)\n",
    "                negative_image = get_negative_images(image, object_mask)\n",
    "\n",
    "                main_images.append(main_image)\n",
    "                positive_images.append(positive_image)\n",
    "                negative_images = negative_images + negative_image\n",
    "            print('hi')\n",
    "            main_images = torch.stack(main_images)\n",
    "            positive_images = torch.stack(positive_images)\n",
    "            negative_images = torch.stack(negative_images)\n",
    "\n",
    "            main_image_embedding = segmentation_net(main_images)['out'][:, 0, :, :]\n",
    "            positive_image_embedding = segmentation_net(positive_images)['out'][:, 0, :, :]\n",
    "            negative_image_embeddings = segmentation_net(negative_images)['out'][:, 0, :, :]\n",
    "            negative_image_embeddings = negative_image_embeddings.view(batch_size, 128, -1, -1, -1)\n",
    "            \n",
    "            loss = criterion(main_image_embeddings, positive_image_embeddings, negative_image_embeddings)\n",
    "            losses.append(loss.item())\n",
    "        \n",
    "    return test_loss, logits\n",
    "\n",
    "def plot_losses(train, val, test_frequency, num_epochs):\n",
    "    plt.plot(train, label=\"train\")\n",
    "    indices = [i for i in range(num_epochs) if ((i+1)%test_frequency == 0 or i ==0)]\n",
    "    plt.plot(indices, val, label=\"val\")\n",
    "    plt.title(\"Loss Plot\")\n",
    "    plt.ylabel(\"Loss\")\n",
    "    plt.xlabel(\"Epoch\")\n",
    "    plt.legend()\n",
    "    plt.show()"
   ]
  },
  {
   "cell_type": "code",
   "execution_count": 7,
   "id": "7f1701af",
   "metadata": {},
   "outputs": [],
   "source": [
    "def train(segmentation_net, saliency_net, num_epochs, train_loader, val_loader, criterion, optimizer, scheduler, test_frequency=5):\n",
    "    train_losses = []\n",
    "    train_mAPs = []\n",
    "    val_losses = []\n",
    "    val_mAPs = []\n",
    "\n",
    "    for epoch in range(1,num_epochs+1):\n",
    "        print(\"Starting epoch number \" + str(epoch))\n",
    "        train_loss = train_segmentation(train_loader, segmentation_net, saliency_net, criterion, optimizer)\n",
    "        train_losses.append(train_loss)\n",
    "        print(\"Loss for Training on Epoch \" + str(epoch) + \" is \" + str(train_loss))\n",
    "        if(epoch%test_frequency==0 or epoch==1):\n",
    "            val_loss, logits = test_segmentation(val_loader, segmentation_net, saliency_net, criterion)\n",
    "            print('Evaluating classifier')\n",
    "            \n",
    "            #Find some way of displaying segmentation results\n",
    "            show_images(logits)\n",
    "            \n",
    "            val_losses.append(val_loss)\n",
    "            \n",
    "            scheduler.step()\n",
    "    \n",
    "    return segmentation_net, train_losses, val_losses"
   ]
  },
  {
   "cell_type": "markdown",
   "id": "432c2093",
   "metadata": {},
   "source": [
    "### Load Neural Nets"
   ]
  },
  {
   "cell_type": "code",
   "execution_count": 8,
   "id": "2ab678c6",
   "metadata": {},
   "outputs": [
    {
     "name": "stderr",
     "output_type": "stream",
     "text": [
      "Using cache found in C:\\Users\\james/.cache\\torch\\hub\\pytorch_vision_v0.6.0\n"
     ]
    }
   ],
   "source": [
    "# basnet.forward returns a list of 8 saliency estimations. For simplicity we will just use the first estimation \n",
    "basnet = BASNet(3, NUM_CLASSES).to(device)\n",
    "basnet.load_state_dict(torch.load('saved_models/basnet.pth'))\n",
    "\n",
    "segmentation_net = load_segmentation_model().to(device)"
   ]
  },
  {
   "cell_type": "code",
   "execution_count": 9,
   "id": "454cce24",
   "metadata": {},
   "outputs": [],
   "source": [
    "# criterion = MaskContrastLoss\n",
    "\n",
    "# optimizer = torch.optim.SGD(segmentation_net.parameters(), lr=0.004, momentum=0.9)\n",
    "# scheduler = torch.optim.lr_scheduler.ExponentialLR(optimizer, gamma=.9)\n",
    "\n",
    "# segmentation_net, train_losses, val_losses = train(segmentation_net, basnet, num_epochs, train_loader, val_loader, criterion, optimizer, scheduler, test_frequency)"
   ]
  },
  {
   "cell_type": "code",
   "execution_count": 10,
   "id": "1083f5f5",
   "metadata": {},
   "outputs": [
    {
     "name": "stderr",
     "output_type": "stream",
     "text": [
      "Clipping input data to the valid range for imshow with RGB data ([0..1] for floats or [0..255] for integers).\n",
      "Clipping input data to the valid range for imshow with RGB data ([0..1] for floats or [0..255] for integers).\n",
      "Clipping input data to the valid range for imshow with RGB data ([0..1] for floats or [0..255] for integers).\n",
      "Clipping input data to the valid range for imshow with RGB data ([0..1] for floats or [0..255] for integers).\n",
      "Clipping input data to the valid range for imshow with RGB data ([0..1] for floats or [0..255] for integers).\n"
     ]
    },
    {
     "data": {
      "image/png": "[encoded data removed]",
      "text/plain": [
       "<Figure size 216x216 with 5 Axes>"
      ]
     },
     "metadata": {
      "needs_background": "light"
     },
     "output_type": "display_data"
    }
   ],
   "source": [
    "images, labels = next(iter(train_loader))\n",
    "show_images(images, color=True)"
   ]
  },
  {
   "cell_type": "code",
   "execution_count": 11,
   "id": "140d8201",
   "metadata": {
    "scrolled": true
   },
   "outputs": [
    {
     "name": "stderr",
     "output_type": "stream",
     "text": [
      "C:\\Users\\james\\anaconda3\\lib\\site-packages\\torch\\nn\\functional.py:3631: UserWarning: Default upsampling behavior when mode=bilinear is changed to align_corners=False since 0.4.0. Please specify align_corners=True if the old behavior is desired. See the documentation of nn.Upsample for details.\n",
      "  warnings.warn(\n",
      "C:\\Users\\james\\anaconda3\\lib\\site-packages\\torch\\nn\\functional.py:1806: UserWarning: nn.functional.sigmoid is deprecated. Use torch.sigmoid instead.\n",
      "  warnings.warn(\"nn.functional.sigmoid is deprecated. Use torch.sigmoid instead.\")\n"
     ]
    }
   ],
   "source": [
    "segmented_images = []\n",
    "basnet_images = []\n",
    "\n",
    "use_basnet = True\n",
    "for image in images:\n",
    "    image = image.unsqueeze(0).to(device)\n",
    "    \n",
    "    if use_basnet:\n",
    "        basnet_images.append(basnet(image)[0].squeeze().cpu())\n",
    "    else:\n",
    "        segmented_images.append(segmentation_net(image)['out'].squeeze()[0].cpu())"
   ]
  },
  {
   "cell_type": "code",
   "execution_count": 12,
   "id": "1391d18c",
   "metadata": {},
   "outputs": [],
   "source": [
    "if use_basnet:\n",
    "    basnet_images = torch.stack(basnet_images).detach().numpy()\n",
    "else:\n",
    "    segmented_images = torch.stack(segmented_images).detach().numpy()"
   ]
  },
  {
   "cell_type": "code",
   "execution_count": 13,
   "id": "0ddd2566",
   "metadata": {},
   "outputs": [
    {
     "data": {
      "image/png": "[encoded data removed]",
      "text/plain": [
       "<Figure size 216x216 with 5 Axes>"
      ]
     },
     "metadata": {
      "needs_background": "light"
     },
     "output_type": "display_data"
    }
   ],
   "source": [
    "if use_basnet:\n",
    "    show_images(basnet_images)\n",
    "else:\n",
    "    show_images(segmented_images)"
   ]
  }
 ],
 "metadata": {
  "kernelspec": {
   "display_name": "Python 3",
   "language": "python",
   "name": "python3"
  },
  "language_info": {
   "codemirror_mode": {
    "name": "ipython",
    "version": 3
   },
   "file_extension": ".py",
   "mimetype": "text/x-python",
   "name": "python",
   "nbconvert_exporter": "python",
   "pygments_lexer": "ipython3",
   "version": "3.8.8"
  }
 },
 "nbformat": 4,
 "nbformat_minor": 5
}
